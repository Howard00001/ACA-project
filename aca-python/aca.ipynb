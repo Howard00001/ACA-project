{
 "cells": [
  {
   "cell_type": "code",
   "execution_count": 1,
   "metadata": {},
   "outputs": [],
   "source": [
    "import numpy as np\n",
    "import scipy.io"
   ]
  },
  {
   "cell_type": "code",
   "execution_count": 2,
   "metadata": {},
   "outputs": [],
   "source": [
    "def kernel(X,Y,sigma):\n",
    "    '''\n",
    "    return kernel distance of sequence X and Y\n",
    "    '''\n",
    "    if len(X.shape)==1:\n",
    "        X = np.expand_dims(X, axis=1)\n",
    "        Y = np.expand_dims(Y, axis=1)\n",
    "    N = len(X)\n",
    "    M = len(Y)\n",
    "    d = np.zeros([N,M])\n",
    "    xsq = np.sum(X**2,axis=1)\n",
    "    ysq = np.sum(Y**2,axis=1)\n",
    "    tD = np.tile(xsq,[M,1]).T + np.tile(ysq,[N,1]) - 2*np.matmul(X,Y.T)\n",
    "    d = np.exp(-tD/(2*sigma**2))\n",
    "\n",
    "def conDist(X,Y):\n",
    "    ''' Construct the distance matrix of the given data sets '''\n",
    "    if len(X.shape)==1:\n",
    "        X = np.expand_dims(X, axis=1)\n",
    "        Y = np.expand_dims(Y, axis=1)\n",
    "    N = len(X)\n",
    "    M = len(Y)\n",
    "    d = np.zeros([N,M])\n",
    "    xsq = np.sum(X**2,axis=1)\n",
    "    ysq = np.sum(Y**2,axis=1)\n",
    "    Dsq = np.tile(xsq,[M,1]).T + np.tile(ysq,[N,1]) - 2*np.matmul(X,Y.T)\n",
    "    return np.sqrt(abs(Dsq))\n",
    "\n",
    "def bandG(D, nei=0.2):\n",
    "    ''' Compute the bandwidth of the Gauss kernel '''\n"
   ]
  },
  {
   "cell_type": "code",
   "execution_count": 3,
   "metadata": {},
   "outputs": [],
   "source": [
    "X = scipy.io.loadmat('testX.mat')['X'].squeeze().astype(float)\n",
    "X=X.T"
   ]
  },
  {
   "cell_type": "code",
   "execution_count": 4,
   "metadata": {},
   "outputs": [],
   "source": [
    "D = conDist(X,X)"
   ]
  },
  {
   "cell_type": "code",
   "execution_count": 5,
   "metadata": {},
   "outputs": [
    {
     "data": {
      "text/plain": [
       "array([[0.00000000e+00, 5.63677566e-02, 1.34865302e-01, ...,\n",
       "        4.43925860e-01, 4.56963967e-01, 4.63214545e-01],\n",
       "       [5.63677566e-02, 3.65002415e-08, 8.06460656e-02, ...,\n",
       "        4.51705283e-01, 4.65205594e-01, 4.71545105e-01],\n",
       "       [1.34865302e-01, 8.06460656e-02, 0.00000000e+00, ...,\n",
       "        4.81134562e-01, 4.94042315e-01, 5.00075099e-01],\n",
       "       ...,\n",
       "       [4.43925860e-01, 4.51705283e-01, 4.81134562e-01, ...,\n",
       "        2.98023224e-08, 8.57025511e-02, 1.56878451e-01],\n",
       "       [4.56963967e-01, 4.65205594e-01, 4.94042315e-01, ...,\n",
       "        8.57025511e-02, 2.10734243e-08, 8.03331428e-02],\n",
       "       [4.63214545e-01, 4.71545105e-01, 5.00075099e-01, ...,\n",
       "        1.56878451e-01, 8.03331428e-02, 2.10734243e-08]])"
      ]
     },
     "execution_count": 5,
     "metadata": {},
     "output_type": "execute_result"
    }
   ],
   "source": [
    "D"
   ]
  },
  {
   "cell_type": "code",
   "execution_count": null,
   "metadata": {},
   "outputs": [],
   "source": []
  }
 ],
 "metadata": {
  "interpreter": {
   "hash": "261f4e7c2ce32b03122008566a2d6b1b4000d084cc20bf73259253bda2cba41d"
  },
  "kernelspec": {
   "display_name": "Python 3.8.12 ('micelab')",
   "language": "python",
   "name": "python3"
  },
  "language_info": {
   "codemirror_mode": {
    "name": "ipython",
    "version": 3
   },
   "file_extension": ".py",
   "mimetype": "text/x-python",
   "name": "python",
   "nbconvert_exporter": "python",
   "pygments_lexer": "ipython3",
   "version": "3.8.12"
  },
  "orig_nbformat": 4
 },
 "nbformat": 4,
 "nbformat_minor": 2
}
