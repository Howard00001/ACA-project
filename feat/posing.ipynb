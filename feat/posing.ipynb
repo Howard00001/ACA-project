{
 "cells": [
  {
   "cell_type": "code",
   "execution_count": 1,
   "metadata": {},
   "outputs": [],
   "source": [
    "import cv2\n",
    "import numpy as np\n",
    "from feature_process import *\n",
    "import matplotlib.pyplot as plt"
   ]
  },
  {
   "cell_type": "code",
   "execution_count": 6,
   "metadata": {},
   "outputs": [],
   "source": [
    "csv = r'C:\\Users\\x\\Desktop\\vid_top\\csv\\Cap-C973-basal.csv'\n",
    "vid = r'C:\\Users\\x\\Desktop\\vid_top\\video_seg\\Cap-C973-basal.avi'\n",
    "sel = 50\n",
    "dlc0 = dlc(csv)\n",
    "coord = dlc0.raw_wrap[sel-1]\n",
    "cap = cv2.VideoCapture(vid)\n",
    "for i in range(sel):\n",
    "    ret,frame = cap.read()\n",
    "cap.release()"
   ]
  },
  {
   "cell_type": "code",
   "execution_count": 7,
   "metadata": {},
   "outputs": [],
   "source": [
    "def align_image(img, fixpt, rotatept, midx=200, midy=200, rotateTo=0):\n",
    "    dx = midx-fixpt[0]\n",
    "    dy = midy-fixpt[1]\n",
    "    H = np.float32([[1,0,dx],[0,1,dy]])\n",
    "    move = cv2.warpAffine(img,H, (img.shape[1],img.shape[0]))\n",
    "    d_angle = (rotateTo-np.arctan2(rotatept[0],rotatept[1]))*180/np.pi\n",
    "    H = cv2.getRotationMatrix2D((midx,midy),d_angle,1)\n",
    "    move = cv2.warpAffine(move,H, (frame.shape[1],frame.shape[0]))\n",
    "    return move\n",
    "\n",
    "def align_point(coord, fixpt, rotatept, midx=200, midy=200, rotateTo=0):\n",
    "    newcoord = coord.copy()\n",
    "    dx = midx-fixpt[0]\n",
    "    dy = midy-fixpt[1]\n",
    "    newcoord[:,0] = newcoord[:,0]+dx\n",
    "    newcoord[:,1] = newcoord[:,1]+dy\n",
    "    d_angle = (rotateTo-np.arctan2(rotatept[0],rotatept[1]))*180/np.pi\n",
    "    H = cv2.getRotationMatrix2D((midx,midy),d_angle,1)\n",
    "    A = H[:,0:2]\n",
    "    B = H[:,2]\n",
    "    newcoord = np.matmul(newcoord,A.T)\n",
    "    newcoord[:,0] = newcoord[:,0]+B[0]\n",
    "    newcoord[:,1] = newcoord[:,1]+B[1]\n",
    "    newcoord = np.int32(newcoord)\n",
    "    return newcoord\n",
    "\n",
    "def align_all(raw_wrap, wrap=False, midx=200, midy=200, rotateTo=0, fixpt_index=3, rotatept_index=6):\n",
    "    newraw = raw_wrap.copy()\n",
    "    for i in range(len(newraw)):\n",
    "        newraw[i] = align_point(newraw[i], newraw[i,fixpt_index], newraw[i,rotatept_index], midx=200, midy=200, rotateTo=0)\n",
    "    if not wrap:\n",
    "        newraw = np.resize(newraw,(len(newraw),newraw.shape[1]*newraw.shape[2]))\n",
    "    return newraw"
   ]
  },
  {
   "cell_type": "code",
   "execution_count": 8,
   "metadata": {},
   "outputs": [],
   "source": [
    "newraw = align_all(dlc0.raw_wrap,True)"
   ]
  },
  {
   "cell_type": "code",
   "execution_count": 9,
   "metadata": {},
   "outputs": [
    {
     "data": {
      "text/plain": [
       "<matplotlib.image.AxesImage at 0x151dbfa1310>"
      ]
     },
     "execution_count": 9,
     "metadata": {},
     "output_type": "execute_result"
    },
    {
     "data": {
      "image/png": "[encoded data removed]",
      "text/plain": [
       "<Figure size 432x288 with 1 Axes>"
      ]
     },
     "metadata": {
      "needs_background": "light"
     },
     "output_type": "display_data"
    }
   ],
   "source": [
    "move = align_image(frame, coord[3], coord[6], midx=200, midy=200, rotateTo=0)\n",
    "newcoord = newraw[sel-1]\n",
    "for x,y in newcoord:\n",
    "    cv2.circle(move,(x,y), 5, (255, 255, 0), 0)\n",
    "plt.imshow(move)"
   ]
  },
  {
   "cell_type": "code",
   "execution_count": null,
   "metadata": {},
   "outputs": [],
   "source": []
  }
 ],
 "metadata": {
  "interpreter": {
   "hash": "261f4e7c2ce32b03122008566a2d6b1b4000d084cc20bf73259253bda2cba41d"
  },
  "kernelspec": {
   "display_name": "Python 3.8.12 ('micelab')",
   "language": "python",
   "name": "python3"
  },
  "language_info": {
   "codemirror_mode": {
    "name": "ipython",
    "version": 3
   },
   "file_extension": ".py",
   "mimetype": "text/x-python",
   "name": "python",
   "nbconvert_exporter": "python",
   "pygments_lexer": "ipython3",
   "version": "3.8.12"
  },
  "orig_nbformat": 4
 },
 "nbformat": 4,
 "nbformat_minor": 2
}
