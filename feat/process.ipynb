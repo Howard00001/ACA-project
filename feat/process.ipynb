{
 "cells": [
  {
   "cell_type": "markdown",
   "metadata": {},
   "source": [
    "### Landmark to feature : Top"
   ]
  },
  {
   "cell_type": "code",
   "execution_count": 1,
   "metadata": {},
   "outputs": [],
   "source": [
    "from feature_process import *\n",
    "import numpy as np\n",
    "import os"
   ]
  },
  {
   "cell_type": "code",
   "execution_count": 2,
   "metadata": {},
   "outputs": [],
   "source": [
    "def get_name(path):\n",
    "    sp = path.split('/')\n",
    "    return sp[-1]\n",
    "\n",
    "    # name = sp[-2]\n",
    "    # if sp[-1].find('basal')!=-1:\n",
    "    #     bt = 'basal'\n",
    "    # else:\n",
    "    #     bt = 'treat'\n",
    "    # return name+'-'+bt+'.csv'"
   ]
  },
  {
   "cell_type": "code",
   "execution_count": 3,
   "metadata": {},
   "outputs": [],
   "source": [
    "# get csv paths\n",
    "paths  = []\n",
    "for root,dirs,files in os.walk(r'C:\\Users\\x\\Desktop\\vid_top\\csv'):\n",
    "    root = root.replace('\\\\','/')\n",
    "    if(root.find('')!=-1): #select mice\n",
    "        for f in files:\n",
    "            if(f.find('.csv')!=-1): #select file \n",
    "                paths.append(root+'/'+f)"
   ]
  },
  {
   "cell_type": "code",
   "execution_count": 4,
   "metadata": {},
   "outputs": [],
   "source": [
    "save_root = r'C:\\Users\\x\\Desktop\\vid_top\\feat/'\n",
    "\n",
    "# select feature ###########################\n",
    "sel_dist = []\n",
    "for i in range(6):\n",
    "    for j in range(i+1,7):\n",
    "        sel_dist.append([i,j])\n",
    "sel_ang = []\n",
    "# for i in range(5):\n",
    "# i=0\n",
    "# for j in range(i+1,6):\n",
    "#     for k in range(j+1,7):\n",
    "#         sel_ang.append([i,j,k])\n",
    "            # sel_ang.append([i,k,j])\n",
    "            # sel_ang.append([j,i,k])\n",
    "############################################\n",
    "\n",
    "if not os.path.isdir(save_root):\n",
    "    os.makedirs(save_root)\n",
    "for path in paths:\n",
    "    dlc1 = dlc(path, True)\n",
    "    ## feature transfer\n",
    "    feat = combine_feat(dlc1, sel_dist, sel_ang)\n",
    "    ## copy and rename\n",
    "    # feat = dlc1.raw\n",
    "    fname = get_name(path)\n",
    "    np.savetxt(save_root+fname,feat,delimiter=\",\", fmt='%s')"
   ]
  },
  {
   "cell_type": "code",
   "execution_count": 3,
   "metadata": {},
   "outputs": [],
   "source": [
    "# select all features\n",
    "sel_dist = []\n",
    "for i in range(6):\n",
    "    for j in range(i+1,7):\n",
    "        sel_dist.append([i,j])\n",
    "sel_ang = []\n",
    "# for i in range(5):\n",
    "i=0\n",
    "for j in range(i+1,6):\n",
    "    for k in range(j+1,7):\n",
    "        sel_ang.append([i,j,k])\n",
    "\n",
    "# sel_dist = [[0,3],[3,6],[1,3],[2,3]]\n",
    "# sel_ang = [[0,3,6],[1,4,6],[2,5,6]]"
   ]
  },
  {
   "cell_type": "code",
   "execution_count": 5,
   "metadata": {},
   "outputs": [],
   "source": [
    "# single process\n",
    "save_file = r'C:\\Users\\x\\Desktop\\vid_top\\0test\\short_feat.csv'\n",
    "path = r'C:\\Users\\x\\Desktop\\vid_top\\0test\\short.csv'\n",
    "dlc1 = dlc(path, True)\n",
    "feat = combine_feat(dlc1, sel_dist, sel_ang)\n",
    "np.savetxt(save_file,feat,delimiter=\",\", fmt='%s')"
   ]
  },
  {
   "cell_type": "markdown",
   "metadata": {},
   "source": [
    "### Landmark to feature : Front"
   ]
  },
  {
   "cell_type": "code",
   "execution_count": 1,
   "metadata": {},
   "outputs": [],
   "source": [
    "from feature_process_front import *\n",
    "import numpy as np\n",
    "import os"
   ]
  },
  {
   "cell_type": "code",
   "execution_count": 3,
   "metadata": {},
   "outputs": [],
   "source": [
    "inpath = r'C:\\Users\\x\\Desktop\\front\\exp1_xml\\0'\n",
    "save_path = r'C:\\Users\\x\\Desktop\\front\\exp1_feat0'\n",
    "postfix = '-treat.csv'\n",
    "pythonenv = r'C:\\Users\\x\\.conda\\envs\\micelab\\python.exe'\n",
    "\n",
    "if not os.path.isdir(save_path):\n",
    "    os.makedirs(save_path)\n",
    "\n",
    "for root,dirs,files in os.walk(inpath):\n",
    "    root = root.replace('\\\\','/')\n",
    "    if(root.find('')!=-1): #select mice\n",
    "        for f in files:\n",
    "            if(f.find('.xml')!=-1): #select file \n",
    "                xmlpath = root+'/'+f\n",
    "                csvpath = save_path +'/'+ f.replace('.xml', postfix)\n",
    "                os.system(pythonenv+' feature_process_front.py --inpath '+xmlpath+' --outpath '+csvpath)\n",
    "                # print(pythonenv+' feature_process_front.py --inpath '+xmlpath+' --outpath '+csvpath)"
   ]
  },
  {
   "cell_type": "markdown",
   "metadata": {},
   "source": [
    "### Cluster Output (Load Mat file)"
   ]
  },
  {
   "cell_type": "code",
   "execution_count": 5,
   "metadata": {},
   "outputs": [],
   "source": [
    "import scipy.io\n",
    "import numpy as np\n",
    "import cv2\n",
    "import imageio"
   ]
  },
  {
   "cell_type": "code",
   "execution_count": 6,
   "metadata": {},
   "outputs": [],
   "source": [
    "seg = scipy.io.loadmat('./mat/seg.mat')['seg'].T\n",
    "label = scipy.io.loadmat('./mat/label.mat')['label'].T"
   ]
  },
  {
   "cell_type": "code",
   "execution_count": 4,
   "metadata": {},
   "outputs": [],
   "source": [
    "def seg_gif(vid_path, seg, label,out_path='./result'):\n",
    "    '''\n",
    "    save video clips gif to out_path by classes\n",
    "    seg : segment points\n",
    "    label : one-hot label\n",
    "    '''\n",
    "    cap = cv2.VideoCapture(vid_path)\n",
    "\n",
    "    for i in range(len(label[0])):\n",
    "        cpath = out_path+'/'+str(i)+'/'\n",
    "        if not os.path.isdir(cpath):\n",
    "            os.makedirs(cpath)\n",
    "\n",
    "    vid_i=0\n",
    "    imgs = []\n",
    "    segi=1\n",
    "    i=0\n",
    "    while(cap.isOpened()):\n",
    "        ret, frame = cap.read()\n",
    "        if not ret:\n",
    "            break\n",
    "        # frame in clip\n",
    "        if i<seg[segi]:\n",
    "            imgs.append(frame)\n",
    "        # split point reached\n",
    "        if i == seg[segi]:\n",
    "            cpath = out_path+'/'+str(np.argmax(label[segi-1]))+'/'\n",
    "            imageio.mimsave(cpath+\"/\"+str(vid_i)+\".gif\",imgs)\n",
    "            imgs = []\n",
    "            imgs.append(frame)\n",
    "            vid_i += 1\n",
    "            segi += 1\n",
    "        i+=1\n",
    "    cap.release()"
   ]
  },
  {
   "cell_type": "code",
   "execution_count": 5,
   "metadata": {},
   "outputs": [],
   "source": [
    "seg_gif('./F2.avi',seg,label)"
   ]
  }
 ],
 "metadata": {
  "interpreter": {
   "hash": "261f4e7c2ce32b03122008566a2d6b1b4000d084cc20bf73259253bda2cba41d"
  },
  "kernelspec": {
   "display_name": "Python 3.8.12 ('micelab')",
   "language": "python",
   "name": "python3"
  },
  "language_info": {
   "codemirror_mode": {
    "name": "ipython",
    "version": 3
   },
   "file_extension": ".py",
   "mimetype": "text/x-python",
   "name": "python",
   "nbconvert_exporter": "python",
   "pygments_lexer": "ipython3",
   "version": "3.8.12"
  },
  "orig_nbformat": 4,
  "vscode": {
   "interpreter": {
    "hash": "976dc5bfe42cd6b3a847082a666c7c18191e37230973744f3d521e66da3262a4"
   }
  }
 },
 "nbformat": 4,
 "nbformat_minor": 2
}
