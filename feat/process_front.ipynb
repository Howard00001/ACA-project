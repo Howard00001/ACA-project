{
 "cells": [
  {
   "cell_type": "code",
   "execution_count": 1,
   "metadata": {},
   "outputs": [],
   "source": [
    "import os"
   ]
  },
  {
   "cell_type": "code",
   "execution_count": 6,
   "metadata": {},
   "outputs": [],
   "source": [
    "inpath = r'C:\\Users\\Administrator\\Desktop\\ACA-project\\feat\\featgen\\after'\n",
    "save_path = '../feat/featgen/exp1/'\n",
    "postfix = '-basal.csv'\n",
    "pythonenv = r'C:\\Users\\Administrator\\miniconda3\\envs\\micelab\\python.exe'\n",
    "\n",
    "if not os.path.isdir(save_path):\n",
    "    os.makedirs(save_path)\n",
    "\n",
    "for root,dirs,files in os.walk(inpath):\n",
    "    root = root.replace('\\\\','/')\n",
    "    if(root.find('')!=-1): #select mice\n",
    "        for f in files:\n",
    "            if(f.find('.xml')!=-1): #select file \n",
    "                xmlpath = root+'/'+f\n",
    "                csvpath = save_path + f.replace('.xml', postfix)\n",
    "                os.system(pythonenv+' feature_process_front.py --inpath '+xmlpath+' --outpath '+csvpath)\n",
    "\n"
   ]
  },
  {
   "cell_type": "code",
   "execution_count": null,
   "metadata": {},
   "outputs": [],
   "source": []
  }
 ],
 "metadata": {
  "kernelspec": {
   "display_name": "Python 3.8.13 ('micelab')",
   "language": "python",
   "name": "python3"
  },
  "language_info": {
   "codemirror_mode": {
    "name": "ipython",
    "version": 3
   },
   "file_extension": ".py",
   "mimetype": "text/x-python",
   "name": "python",
   "nbconvert_exporter": "python",
   "pygments_lexer": "ipython3",
   "version": "3.8.13"
  },
  "orig_nbformat": 4,
  "vscode": {
   "interpreter": {
    "hash": "976dc5bfe42cd6b3a847082a666c7c18191e37230973744f3d521e66da3262a4"
   }
  }
 },
 "nbformat": 4,
 "nbformat_minor": 2
}
